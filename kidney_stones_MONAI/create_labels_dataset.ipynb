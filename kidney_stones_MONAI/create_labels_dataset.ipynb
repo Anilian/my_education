{
  "cells": [
    {
      "cell_type": "code",
      "execution_count": 37,
      "id": "351d75f3-ab87-48c7-aedc-83ea389e7deb",
      "metadata": {
        "id": "351d75f3-ab87-48c7-aedc-83ea389e7deb",
        "tags": []
      },
      "outputs": [],
      "source": [
        "import gc\n",
        "from glob import glob\n",
        "import os\n",
        "import numpy as np\n",
        "import pandas as pd\n",
        "import torch\n",
        "import cv2\n",
        "import nibabel as nib\n",
        "from PIL import Image\n",
        "import json\n",
        "import matplotlib.pyplot as plt\n",
        "import shutil\n"
      ]
    },
    {
      "cell_type": "markdown",
      "id": "b7226633-5c49-4880-8430-8e1ef9dbdf12",
      "metadata": {
        "id": "b7226633-5c49-4880-8430-8e1ef9dbdf12"
      },
      "source": [
        "### Convert patient json to .nii.gz"
      ]
    },
    {
      "cell_type": "markdown",
      "id": "7750b970",
      "metadata": {},
      "source": [
        "Тк архив изображений nii.gz уже составлен, для него нужна разметка. Она в таком тоже формате, что и изображения, только вместо изображений бинарная маска. Если объекта на изображении нет, то маска нулевая"
      ]
    },
    {
      "cell_type": "code",
      "execution_count": null,
      "id": "e904eae3-dcb1-4ad7-b25d-7fc4eb66248f",
      "metadata": {
        "id": "e904eae3-dcb1-4ad7-b25d-7fc4eb66248f",
        "tags": []
      },
      "outputs": [],
      "source": [
        "def dict_images_annot(data_json):\n",
        "    \"\"\"словарь соотношения изображении и списка принадлежащих ему аннотаций \"\"\"\n",
        "\n",
        "    idx_img_annot = {}\n",
        "    data_images = data_json['images']\n",
        "    data_annotations = data_json['annotations']\n",
        "    for i in range(len(data_images)):\n",
        "        annot_idxs = []\n",
        "        cut_img_idx = data_images[i]['id']\n",
        "\n",
        "        for j in range(len(data_annotations)):\n",
        "            if data_annotations[j]['image_id']==cut_img_idx:\n",
        "                annot_idxs.append(data_annotations[j])\n",
        "        idx_img_annot[data_json['images'][i]['file_name']] = annot_idxs\n",
        "\n",
        "    return idx_img_annot"
      ]
    },
    {
      "cell_type": "code",
      "execution_count": null,
      "id": "873e0b1d-2e54-4c44-925b-0093a35325dd",
      "metadata": {
        "id": "873e0b1d-2e54-4c44-925b-0093a35325dd",
        "tags": []
      },
      "outputs": [],
      "source": [
        "def from_coord_to_mask(XY_all, H, W):\n",
        "    \"\"\"Перевод из координат в маску массива\n",
        "    XY_all: координаты из разметки\n",
        "    H, W: ширина и высота кадра \"\"\"\n",
        "    mask = np.zeros((H,W), dtype=np.int8)\n",
        "    coordinates = []\n",
        "    X = []\n",
        "    Y = []\n",
        "    for i in range(len(XY_all)):\n",
        "        if i%2==0:\n",
        "            X.append(np.round(XY_all[i],2))\n",
        "        else:\n",
        "            Y.append(np.round(XY_all[i],2))\n",
        "    coordinates = list(zip(X,Y))\n",
        "    #print(coordinates)\n",
        "    contours = [np.array(coordinates, dtype=np.int32)]\n",
        "    cv2.fillPoly(mask, contours, 1)\n",
        "    return mask"
      ]
    },
    {
      "cell_type": "markdown",
      "id": "229bbd58",
      "metadata": {},
      "source": [
        "так получилось, что разметка для папок 6,7 была сохранения в формате dumatura, остальные в COCO"
      ]
    },
    {
      "cell_type": "code",
      "execution_count": 52,
      "id": "6KC2Ln9nPACE",
      "metadata": {
        "colab": {
          "base_uri": "https://localhost:8080/"
        },
        "id": "6KC2Ln9nPACE",
        "outputId": "4eefaffd-3feb-4012-8765-b5a0fce51316"
      },
      "outputs": [
        {
          "name": "stdout",
          "output_type": "stream",
          "text": [
            "patient_label_6.nii.gz: кол-во фото с камнем 19, без - 109\n",
            "patient_label_7.nii.gz: кол-во фото с камнем 12, без - 116\n"
          ]
        }
      ],
      "source": [
        "#для формата разметки dumaturo\n",
        "new_folder = '/content/drive/MyDrive/Medtech_dataset/dataset/short_v2'\n",
        "path = '/content/drive/MyDrive/Medtech_dataset/dataset/original_datest'\n",
        "H,W = 512,512\n",
        "d = 128  #кол-во изображений в одном nii gz\n",
        "\n",
        "#цикл по папкам пациентов\n",
        "for i in [6,7]:\n",
        "  empty = 0 #переменные для вывода статистики\n",
        "  stone = 0\n",
        "  dcm_files = os.listdir(os.path.join(path, str(i))) #путь до папки dicom файлов\n",
        "  json_test = os.path.join(path, str(i) + '.json') #путь файла, содержащего данные о разметке этой папки\n",
        "  #открытие json\n",
        "  with open(json_test) as load_f:\n",
        "      data_cur = json.load(load_f)\n",
        "  data_all = data_cur['items']\n",
        "  \n",
        "  #создается пустой многомерный архив, нужной размерности\n",
        "  mask_all = np.zeros((H,W,d), dtype=np.int8) \n",
        "  k = 0 #индекс слоя, на который будет запись\n",
        "  for j in range(len(data_all)):\n",
        "    data_one = data_all[j]\n",
        "    name = data_one['id']\n",
        "    annot = data_one['annotations']\n",
        "    dcm_name = name +'.dcm'\n",
        "    #если навазние файла из json не находится в \n",
        "    if dcm_name not in dcm_files:\n",
        "      continue\n",
        "    else:\n",
        "      #если разметки к изображения нет, то сохраняется на этот слой пустая маска\n",
        "      if annot==[]:\n",
        "        mask = np.zeros((H,W), dtype=np.int8)\n",
        "        mask_all[:,:,k] = mask\n",
        "        empty +=1\n",
        "        k+=1\n",
        "      #иначе координаты переводятся в маску\n",
        "      else:\n",
        "        mask_one_all = np.zeros((H,W), dtype=np.int8)\n",
        "        #если есть несколько объектов, то их маски объединяются на одном слое\n",
        "        for g in range(len(annot)):\n",
        "            XY_all = annot[g]['points']\n",
        "            mask_one = from_coord_to_mask(XY_all, H, W)\n",
        "            mask_one_all += mask_one\n",
        "        mask_all[:,:,k] = mask_one_all\n",
        "        stone +=1\n",
        "        k+=1\n",
        "        \n",
        "  #полченный многомерный архив сохраняется в специальный формат nib и записывается\n",
        "  nib_mask = nib.Nifti1Image(mask_all, np.eye(4))\n",
        "  name_gz = 'patient_label_' + str(i) + '.nii.gz'\n",
        "  print('{}: кол-во фото с камнем {}, без - {}'.format(name_gz, stone, empty))\n",
        "  new_path =  os.path.join(new_folder, name_gz)\n",
        "  nib.save(nib_mask,new_path)\n"
      ]
    },
    {
      "cell_type": "code",
      "execution_count": null,
      "id": "rm4RtcNUH-Ac",
      "metadata": {
        "colab": {
          "base_uri": "https://localhost:8080/"
        },
        "id": "rm4RtcNUH-Ac",
        "outputId": "6cc0410b-5b81-437b-e5dd-b4493f5a1a0a"
      },
      "outputs": [
        {
          "name": "stdout",
          "output_type": "stream",
          "text": [
            "patient_label_1.nii.gz: кол-во фото с камнем 5, без - 123\n",
            "patient_label_2.nii.gz: кол-во фото с камнем 7, без - 121\n",
            "patient_label_3.nii.gz: кол-во фото с камнем 8, без - 120\n",
            "patient_label_5.nii.gz: кол-во фото с камнем 9, без - 119\n",
            "patient_label_9.nii.gz: кол-во фото с камнем 6, без - 122\n",
            "patient_label_10.nii.gz: кол-во фото с камнем 5, без - 123\n"
          ]
        }
      ],
      "source": [
        "#для формата разметки coco\n",
        "new_folder = '/content/drive/MyDrive/Medtech_dataset/dataset/short_v2'\n",
        "path = '/content/drive/MyDrive/Medtech_dataset/dataset/original_datest'\n",
        "H,W = 512,512\n",
        "d =128\n",
        "\n",
        "for i in [1,2,3,5,9,10]:\n",
        "    \n",
        "    #открытие json  \n",
        "    json_test = os.path.join(path, str(i) + '.json')\n",
        "    with open(json_test) as load_f:\n",
        "        data_cur = json.load(load_f)\n",
        "    images = data_cur['images']\n",
        "    annot = data_cur['annotations']\n",
        "    \n",
        "    # специальный словарь в которм видно, есть у данного изображения разметка или нет. Если есть, выводится номера разметок\n",
        "    dict_image_annot = dict_images_annot(data_cur)\n",
        "    dcm_files = os.listdir(os.path.join(path, str(i))) #путь до папки dicom файлов\n",
        "\n",
        "    mask_all = np.zeros((H,W,d), dtype=np.int8) #создается пустой многомерный архив, нужной размерности\n",
        "    k = 0 #индекс слоя, на который будет запись\n",
        "    empty = 0 #переменные для вывода статистики\n",
        "    stone = 0\n",
        "    \n",
        "    for j,name in enumerate(list(dict_image_annot.keys())):\n",
        "      dcm_name = name.replace('_{}.png'.format(str(i)), '.dcm') \n",
        "      #если в датасете не используются все оригинальные dicom файлы, то для этого проверяется соотвествие\n",
        "      if dcm_name not in dcm_files: \n",
        "        continue\n",
        "      else:\n",
        "        #если разметки к изображения нет, то сохраняется на этот слой пустая маска\n",
        "        if dict_image_annot[name]==[]:\n",
        "            mask = np.zeros((H,W), dtype=np.int8)\n",
        "            mask_all[:,:,k] = mask\n",
        "            empty +=1\n",
        "        else:\n",
        "            #иначе координаты переводятся в маску\n",
        "            data = dict_image_annot[name]\n",
        "            mask_one_all = np.zeros((H,W), dtype=np.int8)\n",
        "            #если есть несколько объектов, то их маски объединяются на одном слое\n",
        "            for k in range(len(data)):\n",
        "                XY_all = data[k]['segmentation'][0]\n",
        "                mask_one = from_coord_to_mask(XY_all, H, W)\n",
        "                mask_one_all += mask_one\n",
        "            mask_all[:,:,k] = mask_one_all\n",
        "            stone +=1\n",
        "        k+=1\n",
        "        \n",
        "    #полченный многомерный архив сохраняется в специальный формат nib и записывается\n",
        "    nib_mask = nib.Nifti1Image(mask_all, np.eye(4))\n",
        "    name_gz = 'patient_label_' + str(i) + '.nii.gz'\n",
        "    print('{}: кол-во фото с камнем {}, без - {}'.format(name_gz, stone, empty))\n",
        "    new_path =  os.path.join(new_folder, name_gz)\n",
        "    nib.save(nib_mask,new_path)\n"
      ]
    }
  ],
  "metadata": {
    "colab": {
      "provenance": []
    },
    "kernelspec": {
      "display_name": "Python 3 (ipykernel)",
      "language": "python",
      "name": "python3"
    },
    "language_info": {
      "codemirror_mode": {
        "name": "ipython",
        "version": 3
      },
      "file_extension": ".py",
      "mimetype": "text/x-python",
      "name": "python",
      "nbconvert_exporter": "python",
      "pygments_lexer": "ipython3",
      "version": "3.9.7"
    }
  },
  "nbformat": 4,
  "nbformat_minor": 5
}
